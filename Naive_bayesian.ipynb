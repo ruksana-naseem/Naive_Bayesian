{
  "nbformat": 4,
  "nbformat_minor": 0,
  "metadata": {
    "colab": {
      "provenance": [],
      "toc_visible": true,
      "authorship_tag": "ABX9TyOshgNCkVpALeUr5pObhG7s",
      "include_colab_link": true
    },
    "kernelspec": {
      "name": "python3",
      "display_name": "Python 3"
    },
    "language_info": {
      "name": "python"
    }
  },
  "cells": [
    {
      "cell_type": "markdown",
      "metadata": {
        "id": "view-in-github",
        "colab_type": "text"
      },
      "source": [
        "<a href=\"https://colab.research.google.com/github/ruksana-naseem/Naive_Bayesian/blob/main/Naive_bayesian.ipynb\" target=\"_parent\"><img src=\"https://colab.research.google.com/assets/colab-badge.svg\" alt=\"Open In Colab\"/></a>"
      ]
    },
    {
      "cell_type": "code",
      "execution_count": 5,
      "metadata": {
        "colab": {
          "base_uri": "https://localhost:8080/"
        },
        "id": "NT66cOwb7qau",
        "outputId": "d366bcb9-b9f1-425c-c77a-9ec8dadb7aa6"
      },
      "outputs": [
        {
          "output_type": "stream",
          "name": "stdout",
          "text": [
            "Split 767 rows into train=513 and test=254 rows\n",
            "Accuracy of the classifier is : 78.74015748031496%\n"
          ]
        }
      ],
      "source": [
        "\n",
        "import csv\n",
        "import random\n",
        "import math\n",
        "\n",
        "def loadcsv(filename):\n",
        "\tlines = csv.reader(open(filename, \"r\"));\n",
        "\tdataset = list(lines)\n",
        "\tfor i in range(len(dataset)):\n",
        "       #converting strings into numbers for processing\n",
        "\t\tdataset[i] = [float(x) for x in dataset[i]]\n",
        "\n",
        "\treturn dataset\n",
        "\n",
        "def splitdataset(dataset, splitratio):\n",
        "    #67% training size\n",
        "\ttrainsize = int(len(dataset) * splitratio);\n",
        "\ttrainset = []\n",
        "\tcopy = list(dataset);\n",
        "\twhile len(trainset) < trainsize:\n",
        "#generate indices for the dataset list randomly to pick ele for training data\n",
        "\t\tindex = random.randrange(len(copy));\n",
        "\t\ttrainset.append(copy.pop(index))\n",
        "\treturn [trainset, copy]\n",
        "\n",
        "def separatebyclass(dataset):\n",
        "\tseparated = {} #dictionary of classes 1 and 0\n",
        "#creates a dictionary of classes 1 and 0 where the values are\n",
        "#the instances belonging to each class\n",
        "\tfor i in range(len(dataset)):\n",
        "\t\tvector = dataset[i]\n",
        "\t\tif (vector[-1] not in separated):\n",
        "\t\t\tseparated[vector[-1]] = []\n",
        "\t\tseparated[vector[-1]].append(vector)\n",
        "\treturn separated\n",
        "\n",
        "def mean(numbers):\n",
        "\treturn sum(numbers)/float(len(numbers))\n",
        "\n",
        "def stdev(numbers):\n",
        "\tavg = mean(numbers)\n",
        "\tvariance = sum([pow(x-avg,2) for x in numbers])/float(len(numbers)-1)\n",
        "\treturn math.sqrt(variance)\n",
        "\n",
        "def summarize(dataset): #creates a dictionary of classes\n",
        "\tsummaries = [(mean(attribute), stdev(attribute)) for attribute in zip(*dataset)];\n",
        "\tdel summaries[-1] #excluding labels +ve or -ve\n",
        "\treturn summaries\n",
        "\n",
        "def summarizebyclass(dataset):\n",
        "\tseparated = separatebyclass(dataset);\n",
        "    #print(separated)\n",
        "\tsummaries = {}\n",
        "\tfor classvalue, instances in separated.items():\n",
        "#for key,value in dic.items()\n",
        "#summaries is a dic of tuples(mean,std) for each class value\n",
        "\t\tsummaries[classvalue] = summarize(instances) #summarize is used to cal to mean and std\n",
        "\treturn summaries\n",
        "\n",
        "def calculateprobability(x, mean, stdev):\n",
        "\texponent = math.exp(-(math.pow(x-mean,2)/(2*math.pow(stdev,2))))\n",
        "\treturn (1 / (math.sqrt(2*math.pi) * stdev)) * exponent\n",
        "\n",
        "def calculateclassprobabilities(summaries, inputvector):\n",
        "\tprobabilities = {} # probabilities contains the all prob of all class of test data\n",
        "\tfor classvalue, classsummaries in summaries.items():#class and attribute information as mean and sd\n",
        "\t\tprobabilities[classvalue] = 1\n",
        "\t\tfor i in range(len(classsummaries)):\n",
        "\t\t\tmean, stdev = classsummaries[i] #take mean and sd of every attribute for class 0 and 1 seperaely\n",
        "\t\t\tx = inputvector[i] #testvector's first attribute\n",
        "\t\t\tprobabilities[classvalue] *= calculateprobability(x, mean, stdev);#use normal dist\n",
        "\treturn probabilities\n",
        "\n",
        "def predict(summaries, inputvector): #training and test data is passed\n",
        "\tprobabilities = calculateclassprobabilities(summaries, inputvector)\n",
        "\tbestLabel, bestProb = None, -1\n",
        "\tfor classvalue, probability in probabilities.items():#assigns that class which has he highest prob\n",
        "\t\tif bestLabel is None or probability > bestProb:\n",
        "\t\t\tbestProb = probability\n",
        "\t\t\tbestLabel = classvalue\n",
        "\treturn bestLabel\n",
        "\n",
        "def getpredictions(summaries, testset):\n",
        "\tpredictions = []\n",
        "\tfor i in range(len(testset)):\n",
        "\t\tresult = predict(summaries, testset[i])\n",
        "\t\tpredictions.append(result)\n",
        "\treturn predictions\n",
        "\n",
        "def getaccuracy(testset, predictions):\n",
        "\tcorrect = 0\n",
        "\tfor i in range(len(testset)):\n",
        "\t\tif testset[i][-1] == predictions[i]:\n",
        "\t\t\tcorrect += 1\n",
        "\treturn (correct/float(len(testset))) * 100.0\n",
        "\n",
        "def main():\n",
        "\tfilename = '/content/5-dataset.csv'\n",
        "\tsplitratio = 0.67\n",
        "\tdataset = loadcsv(filename);\n",
        "\n",
        "\ttrainingset, testset = splitdataset(dataset, splitratio)\n",
        "\tprint('Split {0} rows into train={1} and test={2} rows'.format(len(dataset), len(trainingset), len(testset)))\n",
        "\t# prepare model\n",
        "\tsummaries = summarizebyclass(trainingset);\n",
        "\t#print(summaries)\n",
        "    # test model\n",
        "\tpredictions = getpredictions(summaries, testset) #find the predictions of test data with the training data\n",
        "\taccuracy = getaccuracy(testset, predictions)\n",
        "\tprint('Accuracy of the classifier is : {0}%'.format(accuracy))\n",
        "\n",
        "main()\n"
      ]
    }
  ]
}